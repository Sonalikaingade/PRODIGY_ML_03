{
  "nbformat": 4,
  "nbformat_minor": 0,
  "metadata": {
    "colab": {
      "provenance": []
    },
    "kernelspec": {
      "name": "python3",
      "display_name": "Python 3"
    },
    "language_info": {
      "name": "python"
    }
  },
  "cells": [
    {
      "cell_type": "code",
      "execution_count": 38,
      "metadata": {
        "id": "Mezy3YGt1EKC"
      },
      "outputs": [],
      "source": [
        "import pandas as pd\n",
        "import numpy as np\n",
        "import tensorflow as tf\n",
        "\n",
        "import warnings\n",
        "warnings.filterwarnings('ignore')"
      ]
    },
    {
      "cell_type": "code",
      "source": [
        "from tensorflow.compat.v1 import ConfigProto\n",
        "from tensorflow.compat.v1 import InteractiveSession\n",
        "\n",
        "config = ConfigProto()\n",
        "config.gpu_options.per_process_gpu_memory_fraction = 0.6\n",
        "config.gpu_options.allow_growth = True\n",
        "session = InteractiveSession(config=config)"
      ],
      "metadata": {
        "id": "9Kksg8ni1Myx"
      },
      "execution_count": 39,
      "outputs": []
    },
    {
      "cell_type": "code",
      "source": [
        "from tensorflow.keras.preprocessing.image import ImageDataGenerator\n",
        "\n",
        "datagen = ImageDataGenerator(rescale=1./255, shear_range=0.2, zoom_range=0.2, horizontal_flip=True)\n",
        "\n",
        "training_set = datagen.flow_from_directory(\n",
        "        \"/content/drive/MyDrive/Prodigy ML/training_set\",\n",
        "        target_size=(64, 64),\n",
        "        batch_size=32,\n",
        "        class_mode=\"binary\"\n",
        "      )"
      ],
      "metadata": {
        "colab": {
          "base_uri": "https://localhost:8080/"
        },
        "id": "gaghrjNK1PDg",
        "outputId": "84b9629b-91dd-405c-ec43-9f77349a5188"
      },
      "execution_count": 41,
      "outputs": [
        {
          "output_type": "stream",
          "name": "stdout",
          "text": [
            "Found 4004 images belonging to 2 classes.\n"
          ]
        }
      ]
    },
    {
      "cell_type": "code",
      "source": [
        "datagen1 = ImageDataGenerator(rescale=1./255)\n",
        "\n",
        "test_set = datagen1.flow_from_directory(\n",
        "        \"/content/drive/MyDrive/Prodigy ML/test_set\",\n",
        "        target_size=(64, 64),\n",
        "        batch_size=32,\n",
        "        class_mode=\"binary\"\n",
        "      )"
      ],
      "metadata": {
        "colab": {
          "base_uri": "https://localhost:8080/"
        },
        "id": "AKFCv2a41Ssq",
        "outputId": "311335e2-b7b2-4eac-be9e-032cd067912f"
      },
      "execution_count": 42,
      "outputs": [
        {
          "output_type": "stream",
          "name": "stdout",
          "text": [
            "Found 2023 images belonging to 2 classes.\n"
          ]
        }
      ]
    },
    {
      "cell_type": "code",
      "source": [
        "from tensorflow.keras.layers import Conv2D\n",
        "from tensorflow.keras.layers import Dense"
      ],
      "metadata": {
        "id": "1B-rX-1Y1w4E"
      },
      "execution_count": 43,
      "outputs": []
    },
    {
      "cell_type": "code",
      "source": [
        "from tensorflow.keras.regularizers import l2"
      ],
      "metadata": {
        "id": "cX4FKwpg10vR"
      },
      "execution_count": 44,
      "outputs": []
    },
    {
      "cell_type": "code",
      "source": [
        "cnn = tf.keras.models.Sequential()"
      ],
      "metadata": {
        "id": "A9P30CzB12oX"
      },
      "execution_count": 45,
      "outputs": []
    },
    {
      "cell_type": "code",
      "source": [
        "cnn.add(tf.keras.layers.Conv2D(filters=32,padding=\"same\",kernel_size=3, activation='relu', strides=2, input_shape=[64, 64, 3]))"
      ],
      "metadata": {
        "id": "neolBKYg16U7"
      },
      "execution_count": 47,
      "outputs": []
    },
    {
      "cell_type": "code",
      "source": [
        "cnn.add(tf.keras.layers.MaxPool2D(pool_size=2, strides=2))"
      ],
      "metadata": {
        "id": "VZYyN5Hp1-Vy"
      },
      "execution_count": 48,
      "outputs": []
    },
    {
      "cell_type": "code",
      "source": [
        "cnn.add(tf.keras.layers.Conv2D(filters=32,padding='same',kernel_size=3, activation='relu'))\n",
        "cnn.add(tf.keras.layers.MaxPool2D(pool_size=2, strides=2))"
      ],
      "metadata": {
        "id": "BCpwIiyL2GH5"
      },
      "execution_count": 49,
      "outputs": []
    },
    {
      "cell_type": "code",
      "source": [
        "cnn.add(tf.keras.layers.Flatten())"
      ],
      "metadata": {
        "id": "9SqO2ngC2Kzb"
      },
      "execution_count": 50,
      "outputs": []
    },
    {
      "cell_type": "code",
      "source": [
        "cnn.add(tf.keras.layers.Dense(units=128, activation='relu'))"
      ],
      "metadata": {
        "id": "g0_SvNJr2Nmx"
      },
      "execution_count": 51,
      "outputs": []
    },
    {
      "cell_type": "code",
      "source": [
        "cnn.add(Dense(1, kernel_regularizer=tf.keras.regularizers.l2(0.01),activation\n",
        "             ='linear'))"
      ],
      "metadata": {
        "id": "TtvMt2Us2k_H"
      },
      "execution_count": 52,
      "outputs": []
    },
    {
      "cell_type": "code",
      "source": [
        "cnn.summary()"
      ],
      "metadata": {
        "colab": {
          "base_uri": "https://localhost:8080/"
        },
        "id": "dj98Z0l62p0J",
        "outputId": "c5f75775-d8f5-4306-b2ee-650362193ef3"
      },
      "execution_count": 53,
      "outputs": [
        {
          "output_type": "stream",
          "name": "stdout",
          "text": [
            "Model: \"sequential\"\n",
            "_________________________________________________________________\n",
            " Layer (type)                Output Shape              Param #   \n",
            "=================================================================\n",
            " conv2d (Conv2D)             (None, 32, 32, 32)        896       \n",
            "                                                                 \n",
            " max_pooling2d (MaxPooling2  (None, 16, 16, 32)        0         \n",
            " D)                                                              \n",
            "                                                                 \n",
            " conv2d_1 (Conv2D)           (None, 16, 16, 32)        9248      \n",
            "                                                                 \n",
            " max_pooling2d_1 (MaxPoolin  (None, 8, 8, 32)          0         \n",
            " g2D)                                                            \n",
            "                                                                 \n",
            " flatten (Flatten)           (None, 2048)              0         \n",
            "                                                                 \n",
            " dense (Dense)               (None, 128)               262272    \n",
            "                                                                 \n",
            " dense_1 (Dense)             (None, 1)                 129       \n",
            "                                                                 \n",
            "=================================================================\n",
            "Total params: 272545 (1.04 MB)\n",
            "Trainable params: 272545 (1.04 MB)\n",
            "Non-trainable params: 0 (0.00 Byte)\n",
            "_________________________________________________________________\n"
          ]
        }
      ]
    },
    {
      "cell_type": "code",
      "source": [
        "cnn.compile(optimizer = 'adam', loss = 'hinge', metrics = ['accuracy'])"
      ],
      "metadata": {
        "id": "zCTOYLTc4F-Z"
      },
      "execution_count": 54,
      "outputs": []
    },
    {
      "cell_type": "code",
      "source": [
        "r=cnn.fit(x = training_set, validation_data = test_set, epochs = 15)"
      ],
      "metadata": {
        "colab": {
          "base_uri": "https://localhost:8080/"
        },
        "id": "Pa5QgmQy4JkQ",
        "outputId": "2e8931c3-9025-432a-f9b0-f7c3bcb1fb26"
      },
      "execution_count": 55,
      "outputs": [
        {
          "output_type": "stream",
          "name": "stdout",
          "text": [
            "Epoch 1/15\n",
            "126/126 [==============================] - 1028s 8s/step - loss: 1.0025 - accuracy: 0.5100 - val_loss: 0.9227 - val_accuracy: 0.5393\n",
            "Epoch 2/15\n",
            "126/126 [==============================] - 85s 674ms/step - loss: 0.8839 - accuracy: 0.5734 - val_loss: 0.8802 - val_accuracy: 0.5205\n",
            "Epoch 3/15\n",
            "126/126 [==============================] - 74s 589ms/step - loss: 0.8073 - accuracy: 0.6301 - val_loss: 0.7971 - val_accuracy: 0.6728\n",
            "Epoch 4/15\n",
            "126/126 [==============================] - 55s 438ms/step - loss: 0.7286 - accuracy: 0.6623 - val_loss: 0.6890 - val_accuracy: 0.6955\n",
            "Epoch 5/15\n",
            "126/126 [==============================] - 59s 468ms/step - loss: 0.6703 - accuracy: 0.6891 - val_loss: 0.6847 - val_accuracy: 0.6906\n",
            "Epoch 6/15\n",
            "126/126 [==============================] - 54s 427ms/step - loss: 0.6560 - accuracy: 0.6901 - val_loss: 0.6512 - val_accuracy: 0.7257\n",
            "Epoch 7/15\n",
            "126/126 [==============================] - 55s 437ms/step - loss: 0.6196 - accuracy: 0.7183 - val_loss: 0.7127 - val_accuracy: 0.7177\n",
            "Epoch 8/15\n",
            "126/126 [==============================] - 46s 361ms/step - loss: 0.5919 - accuracy: 0.7245 - val_loss: 0.6163 - val_accuracy: 0.7311\n",
            "Epoch 9/15\n",
            "126/126 [==============================] - 55s 434ms/step - loss: 0.5842 - accuracy: 0.7270 - val_loss: 0.5838 - val_accuracy: 0.7355\n",
            "Epoch 10/15\n",
            "126/126 [==============================] - 54s 426ms/step - loss: 0.5675 - accuracy: 0.7368 - val_loss: 0.6002 - val_accuracy: 0.7593\n",
            "Epoch 11/15\n",
            "126/126 [==============================] - 54s 427ms/step - loss: 0.5510 - accuracy: 0.7463 - val_loss: 0.5653 - val_accuracy: 0.7504\n",
            "Epoch 12/15\n",
            "126/126 [==============================] - 53s 423ms/step - loss: 0.5320 - accuracy: 0.7525 - val_loss: 0.5803 - val_accuracy: 0.7617\n",
            "Epoch 13/15\n",
            "126/126 [==============================] - 54s 430ms/step - loss: 0.5315 - accuracy: 0.7527 - val_loss: 0.6021 - val_accuracy: 0.7593\n",
            "Epoch 14/15\n",
            "126/126 [==============================] - 55s 438ms/step - loss: 0.5139 - accuracy: 0.7652 - val_loss: 0.5548 - val_accuracy: 0.7652\n",
            "Epoch 15/15\n",
            "126/126 [==============================] - 44s 347ms/step - loss: 0.5044 - accuracy: 0.7720 - val_loss: 0.5359 - val_accuracy: 0.7721\n"
          ]
        }
      ]
    },
    {
      "cell_type": "code",
      "source": [
        "# plot the loss\n",
        "import matplotlib.pyplot as plt\n",
        "plt.plot(r.history['loss'], label='train loss')\n",
        "plt.plot(r.history['val_loss'], label='val loss')\n",
        "plt.legend()\n",
        "plt.show()\n",
        "\n",
        "# plot the accuracy\n",
        "plt.plot(r.history['accuracy'], label='train acc')\n",
        "plt.plot(r.history['val_accuracy'], label='val acc')\n",
        "plt.legend()\n",
        "plt.show()"
      ],
      "metadata": {
        "colab": {
          "base_uri": "https://localhost:8080/",
          "height": 843
        },
        "id": "tbI1nKiv4N4O",
        "outputId": "4ffb6fac-0492-47ae-a8a7-1219b7235537"
      },
      "execution_count": 56,
      "outputs": [
        {
          "output_type": "display_data",
          "data": {
            "text/plain": [
              "<Figure size 640x480 with 1 Axes>"
            ],
            "image/png": "[encoded data removed]"
          },
          "metadata": {}
        },
        {
          "output_type": "display_data",
          "data": {
            "text/plain": [
              "<Figure size 640x480 with 1 Axes>"
            ],
            "image/png": "[encoded data removed]"
          },
          "metadata": {}
        }
      ]
    },
    {
      "cell_type": "code",
      "source": [
        "from tensorflow.keras.models import load_model\n",
        "\n",
        "cnn.save('./model_rcat_dog.h5')"
      ],
      "metadata": {
        "id": "r2CMQcn94Ugd"
      },
      "execution_count": 57,
      "outputs": []
    },
    {
      "cell_type": "code",
      "source": [
        "from tensorflow.keras.preprocessing import image\n",
        "test_image = image.load_img('/content/drive/MyDrive/Prodigy ML/training_set/dogs/dog.1009.jpg', target_size = (64,64))\n",
        "test_image = image.img_to_array(test_image)\n",
        "test_image=test_image/255\n",
        "test_image = np.expand_dims(test_image, axis = 0)\n",
        "result = cnn.predict(test_image)\n"
      ],
      "metadata": {
        "colab": {
          "base_uri": "https://localhost:8080/"
        },
        "id": "4v_zUnbF4XkW",
        "outputId": "6101595f-bc1d-487e-cbfd-a937173689e0"
      },
      "execution_count": 58,
      "outputs": [
        {
          "output_type": "stream",
          "name": "stdout",
          "text": [
            "1/1 [==============================] - 0s 127ms/step\n"
          ]
        }
      ]
    },
    {
      "cell_type": "code",
      "source": [
        "if result[0]<0:\n",
        "    print(\"The image classified is cat\")\n",
        "else:\n",
        "    print(\"The image classified is dog\")"
      ],
      "metadata": {
        "colab": {
          "base_uri": "https://localhost:8080/"
        },
        "id": "AO7rHDWP7g6-",
        "outputId": "cf229706-8a93-490c-9232-b9f0fa2a0cda"
      },
      "execution_count": 59,
      "outputs": [
        {
          "output_type": "stream",
          "name": "stdout",
          "text": [
            "The image classified is dog\n"
          ]
        }
      ]
    }
  ]
}